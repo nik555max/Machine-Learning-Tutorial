{
 "cells": [
  {
   "cell_type": "markdown",
   "metadata": {},
   "source": [
    "# Finding Mean"
   ]
  },
  {
   "cell_type": "code",
   "execution_count": 33,
   "metadata": {},
   "outputs": [],
   "source": [
    "#Mean using numpy\n",
    "import numpy"
   ]
  },
  {
   "cell_type": "code",
   "execution_count": 34,
   "metadata": {},
   "outputs": [],
   "source": [
    "speed = [99,86,87,88,111,86,103,87,94,78,77,85,86]"
   ]
  },
  {
   "cell_type": "code",
   "execution_count": 35,
   "metadata": {},
   "outputs": [],
   "source": [
    "mean_value = numpy.mean(speed)"
   ]
  },
  {
   "cell_type": "code",
   "execution_count": 36,
   "metadata": {},
   "outputs": [
    {
     "name": "stdout",
     "output_type": "stream",
     "text": [
      "89.76923076923077\n"
     ]
    }
   ],
   "source": [
    "print(mean_value)"
   ]
  },
  {
   "cell_type": "markdown",
   "metadata": {},
   "source": [
    "# Finding Median"
   ]
  },
  {
   "cell_type": "code",
   "execution_count": 37,
   "metadata": {},
   "outputs": [],
   "source": [
    "meadian_value = numpy.median(speed)"
   ]
  },
  {
   "cell_type": "code",
   "execution_count": 38,
   "metadata": {},
   "outputs": [
    {
     "name": "stdout",
     "output_type": "stream",
     "text": [
      "87.0\n"
     ]
    }
   ],
   "source": [
    "print(meadian_value)"
   ]
  },
  {
   "cell_type": "markdown",
   "metadata": {},
   "source": [
    "# Finding Mode"
   ]
  },
  {
   "cell_type": "code",
   "execution_count": 39,
   "metadata": {},
   "outputs": [],
   "source": [
    "from scipy import stats"
   ]
  },
  {
   "cell_type": "code",
   "execution_count": 40,
   "metadata": {},
   "outputs": [],
   "source": [
    "mode_value = stats.mode(speed)"
   ]
  },
  {
   "cell_type": "code",
   "execution_count": 41,
   "metadata": {},
   "outputs": [
    {
     "name": "stdout",
     "output_type": "stream",
     "text": [
      "ModeResult(mode=array([86]), count=array([3]))\n"
     ]
    }
   ],
   "source": [
    "print(mode_value)"
   ]
  },
  {
   "cell_type": "markdown",
   "metadata": {},
   "source": [
    "# Standard Deviation"
   ]
  },
  {
   "cell_type": "markdown",
   "metadata": {},
   "source": [
    "Standard Deviation is a no that describes how spread out the values are.\n",
    "A low standard deviation means that most of the no are close to the mean(average) value.\n",
    "A high standard deviation means that the values are spread out over a wider range."
   ]
  },
  {
   "cell_type": "code",
   "execution_count": 42,
   "metadata": {},
   "outputs": [],
   "source": [
    "std_value = numpy.std(speed)"
   ]
  },
  {
   "cell_type": "code",
   "execution_count": 43,
   "metadata": {},
   "outputs": [
    {
     "name": "stdout",
     "output_type": "stream",
     "text": [
      "9.258292301032677\n"
     ]
    }
   ],
   "source": [
    "print(std_value)"
   ]
  },
  {
   "cell_type": "markdown",
   "metadata": {},
   "source": [
    "# Variance"
   ]
  },
  {
   "cell_type": "markdown",
   "metadata": {},
   "source": [
    "Variance is an another no that indicates how spread out the values are.\n",
    "In fact, if you square root the variance, you get the standard deviation."
   ]
  },
  {
   "cell_type": "code",
   "execution_count": 44,
   "metadata": {},
   "outputs": [],
   "source": [
    "var_value = numpy.var(speed)"
   ]
  },
  {
   "cell_type": "code",
   "execution_count": 45,
   "metadata": {},
   "outputs": [
    {
     "name": "stdout",
     "output_type": "stream",
     "text": [
      "85.71597633136093\n"
     ]
    }
   ],
   "source": [
    "print(var_value)"
   ]
  },
  {
   "cell_type": "markdown",
   "metadata": {},
   "source": [
    "# Percentile"
   ]
  },
  {
   "cell_type": "markdown",
   "metadata": {},
   "source": [
    "Percentile are used in statistics to give you a number that describes the value that a give percent of the values are lower than."
   ]
  },
  {
   "cell_type": "code",
   "execution_count": 46,
   "metadata": {},
   "outputs": [],
   "source": [
    "ages = [5,31,43,48,50,41,7,11,15,39,80,82,32,2,8,6,25,36,27,61,31]"
   ]
  },
  {
   "cell_type": "code",
   "execution_count": 47,
   "metadata": {},
   "outputs": [],
   "source": [
    "percentile_value = numpy.percentile(ages, 75)"
   ]
  },
  {
   "cell_type": "code",
   "execution_count": 48,
   "metadata": {},
   "outputs": [
    {
     "name": "stdout",
     "output_type": "stream",
     "text": [
      "43.0\n"
     ]
    }
   ],
   "source": [
    "print(percentile_value)"
   ]
  },
  {
   "cell_type": "markdown",
   "metadata": {},
   "source": [
    "# Big Data Distribution"
   ]
  },
  {
   "cell_type": "markdown",
   "metadata": {},
   "source": [
    "Generating random data sets using numpy module."
   ]
  },
  {
   "cell_type": "code",
   "execution_count": 49,
   "metadata": {},
   "outputs": [],
   "source": [
    "random_data_set = numpy.random.uniform(1,11,250)"
   ]
  },
  {
   "cell_type": "code",
   "execution_count": 50,
   "metadata": {},
   "outputs": [
    {
     "name": "stdout",
     "output_type": "stream",
     "text": [
      "[ 2.65236513  7.16071733  7.98946672  7.45215559  9.25458062  9.79963904\n",
      "  8.98278993  7.10201005  1.91688375  8.06108704  5.38036013  9.74287932\n",
      "  5.85297033  4.10254193 10.62081058  6.30939086  9.44943268  9.62854422\n",
      "  6.27245627  9.18983433 10.45288974  3.96025964  5.84267153  7.67227516\n",
      "  6.17150452  7.44415622  4.24159767  3.23663243  5.83792815  6.07368689\n",
      " 10.24560875  1.98007954  8.23909925  7.49205364 10.92500031  3.75991214\n",
      "  8.84700933  9.5769491   3.77179324  9.69359938 10.84672615  5.45567349\n",
      "  1.64171686 10.07046192  7.19757602  4.22444223  9.77858281  7.06289846\n",
      "  7.09768039  9.8129109   7.99500395  1.87874798  5.63140542  1.58774574\n",
      "  5.34943517  1.51740428  6.48384609  7.93499346  7.52903029  4.17401093\n",
      "  4.81432939  1.70293264  9.26451558  7.2573414   7.40667669  6.83561185\n",
      "  2.25760514  4.88163993  4.32563128  1.90238072  2.38102083  6.08105685\n",
      "  8.98367698  1.75516037  9.82671592  5.37783276  8.03355164  4.47298398\n",
      "  2.96488719  2.56349355  2.36538951  1.90515982  7.71893332  9.31195869\n",
      "  4.86840748  2.10903857  9.5176429  10.44680453  7.11934329  6.78694773\n",
      "  6.31795712  5.93455523  5.54976165  7.28334779  3.69141919  2.50010776\n",
      "  1.94579304  3.10388822 10.03022364  8.06898415 10.70999074  5.46026336\n",
      "  9.54537492  9.92445199  1.95357964  7.01457606  6.8877113   7.33178453\n",
      "  5.51116181  3.42158155  6.80152109  7.43370535  7.5723335   6.88546559\n",
      "  5.33779056  9.44629156  3.9687143   8.63631617  6.96782858  5.764672\n",
      " 10.92395997  9.17560332  5.72985173  2.37837918  3.7789519   2.41480983\n",
      " 10.28544145 10.57662863  3.29776202  4.72404925  9.00889379  9.72697165\n",
      "  5.41265918  6.73880423  1.56777752  1.79065108  1.10365671  9.12677502\n",
      "  1.58790152  1.58719875  2.37906314  8.67892327  6.99054862  6.55613948\n",
      "  8.63770764  1.75187515  2.69291062  3.60969378  2.67925601  8.96704245\n",
      "  3.73742173  5.34696238  1.80446428  8.76363294  9.26619114  5.31000215\n",
      "  3.86981552  2.49691576  6.68279423  4.43889789  1.03658669  8.09676662\n",
      "  9.73743871  6.05394     7.33688597  1.64632361  6.59890814 10.73309437\n",
      "  9.71831521  3.35276648  5.0162845   2.23756095  1.25508393  7.83183729\n",
      "  7.89093202  4.29692922  1.21445296  3.77724057  4.39469164  8.72827961\n",
      "  6.74493605  5.60400598  6.84278654  2.9434627  10.80360826  6.27901598\n",
      "  4.82748238  8.52179008  7.24416724  3.34081708  4.35910544  5.16720862\n",
      "  6.18526702  8.96420609  9.26916847  7.45681957  1.27298061  1.95869181\n",
      "  8.59595432  8.57965903  9.58988412 10.36370789  4.04903924  4.84750128\n",
      "  6.87342597  7.65074842  4.00671374  5.9120901   7.7696909  10.67830468\n",
      "  2.80723326 10.68012513  9.61617334  3.64639866 10.29823766  9.13833079\n",
      "  2.59121978  6.46486354  9.36737402  8.0031082   7.07385998  6.72184049\n",
      "  2.42292086  5.73367209 10.08391122  9.87494245  1.00168308  9.87719514\n",
      "  5.35044755  2.18005623  8.66124852  2.74489416  7.14042633  8.1213965\n",
      "  5.00174701  4.92991302  6.19002624  8.88776244  6.37446014  5.39085598\n",
      " 10.14907183  2.76512452 10.26836504  9.65020079  2.14977451  5.58929433\n",
      " 10.85983199  4.63755676  7.08453512  4.92123977]\n"
     ]
    }
   ],
   "source": [
    "print(random_data_set)"
   ]
  },
  {
   "cell_type": "markdown",
   "metadata": {},
   "source": [
    "# Visualising the above data using histogram"
   ]
  },
  {
   "cell_type": "code",
   "execution_count": 51,
   "metadata": {},
   "outputs": [],
   "source": [
    "import matplotlib.pyplot as plt"
   ]
  },
  {
   "cell_type": "code",
   "execution_count": 52,
   "metadata": {},
   "outputs": [
    {
     "data": {
      "image/png": "[encoded data removed]",
      "text/plain": [
       "<Figure size 432x288 with 1 Axes>"
      ]
     },
     "metadata": {
      "needs_background": "light"
     },
     "output_type": "display_data"
    }
   ],
   "source": [
    "plt.hist(random_data_set,11)\n",
    "plt.show()"
   ]
  },
  {
   "cell_type": "markdown",
   "metadata": {},
   "source": [
    "# Normal Data Distribution"
   ]
  },
  {
   "cell_type": "code",
   "execution_count": 53,
   "metadata": {},
   "outputs": [
    {
     "data": {
      "image/png": "[encoded data removed]",
      "text/plain": [
       "<Figure size 432x288 with 1 Axes>"
      ]
     },
     "metadata": {
      "needs_background": "light"
     },
     "output_type": "display_data"
    }
   ],
   "source": [
    "random_normal_data_set = numpy.random.normal(1,5,10000000)\n",
    "plt.hist(random_normal_data_set,100)\n",
    "plt.show()"
   ]
  },
  {
   "cell_type": "markdown",
   "metadata": {},
   "source": [
    "# Scatter plot"
   ]
  },
  {
   "cell_type": "markdown",
   "metadata": {},
   "source": [
    "A scatter plot is a diagram where each value in the data set is represented by the a dot."
   ]
  },
  {
   "cell_type": "code",
   "execution_count": 54,
   "metadata": {},
   "outputs": [],
   "source": [
    "age_of_car = [5,7,8,7,2,17,2,9,4,11,12,9,6]"
   ]
  },
  {
   "cell_type": "code",
   "execution_count": 55,
   "metadata": {},
   "outputs": [],
   "source": [
    "speed_of_a_car = [99,86,87,88,111,86,103,87,94,78,77,85,86]"
   ]
  },
  {
   "cell_type": "code",
   "execution_count": 56,
   "metadata": {},
   "outputs": [
    {
     "data": {
      "image/png": "[encoded data removed]",
      "text/plain": [
       "<Figure size 432x288 with 1 Axes>"
      ]
     },
     "metadata": {
      "needs_background": "light"
     },
     "output_type": "display_data"
    }
   ],
   "source": [
    "plt.scatter(age_of_car, speed_of_a_car)\n",
    "plt.show()"
   ]
  },
  {
   "cell_type": "markdown",
   "metadata": {},
   "source": [
    "# Machine Learning - Linear Regression"
   ]
  },
  {
   "cell_type": "markdown",
   "metadata": {},
   "source": [
    "Let's use the ages of the car set and speed of the car set to build our linear regression model."
   ]
  },
  {
   "cell_type": "markdown",
   "metadata": {},
   "source": [
    "Execute a method that returns some important key values of linear Regression."
   ]
  },
  {
   "cell_type": "code",
   "execution_count": 25,
   "metadata": {},
   "outputs": [],
   "source": [
    "slope, intercept, r, p, std_error = stats.linregress(age_of_car, speed_of_a_car)"
   ]
  },
  {
   "cell_type": "markdown",
   "metadata": {},
   "source": [
    "Create a fun that uses the slope and intercept to return a new value. This new value represents where on the y-axix the corresponding x-values will be placed."
   ]
  },
  {
   "cell_type": "code",
   "execution_count": 26,
   "metadata": {},
   "outputs": [],
   "source": [
    "def place_x_val(age_of_car):\n",
    "    return slope * age_of_car + intercept"
   ]
  },
  {
   "cell_type": "markdown",
   "metadata": {},
   "source": [
    "Run each value of the age_of_car array through the fun. This will result in a new array with new values for the y-axix."
   ]
  },
  {
   "cell_type": "code",
   "execution_count": 27,
   "metadata": {},
   "outputs": [],
   "source": [
    "mymodel = list(map(place_x_val, age_of_car))"
   ]
  },
  {
   "cell_type": "markdown",
   "metadata": {},
   "source": [
    "Drawing the lines of regression"
   ]
  },
  {
   "cell_type": "code",
   "execution_count": 28,
   "metadata": {},
   "outputs": [
    {
     "data": {
      "text/plain": [
       "[<matplotlib.lines.Line2D at 0x7fa8c6e838e0>]"
      ]
     },
     "execution_count": 28,
     "metadata": {},
     "output_type": "execute_result"
    },
    {
     "data": {
      "image/png": "[encoded data removed]",
      "text/plain": [
       "<Figure size 432x288 with 1 Axes>"
      ]
     },
     "metadata": {
      "needs_background": "light"
     },
     "output_type": "display_data"
    }
   ],
   "source": [
    "plt.plot(age_of_car, mymodel)"
   ]
  },
  {
   "cell_type": "code",
   "execution_count": 29,
   "metadata": {},
   "outputs": [
    {
     "data": {
      "image/png": "[encoded data removed]",
      "text/plain": [
       "<Figure size 432x288 with 1 Axes>"
      ]
     },
     "metadata": {
      "needs_background": "light"
     },
     "output_type": "display_data"
    }
   ],
   "source": [
    "plt.scatter(age_of_car, speed_of_a_car)\n",
    "plt.plot(age_of_car, mymodel)\n",
    "plt.show()"
   ]
  },
  {
   "cell_type": "markdown",
   "metadata": {},
   "source": [
    "# R for Relationship"
   ]
  },
  {
   "cell_type": "markdown",
   "metadata": {},
   "source": [
    "The 'r' value ranges from 0 to 1, where 0 means no relationship and 1 means 100% related."
   ]
  },
  {
   "cell_type": "markdown",
   "metadata": {},
   "source": [
    "We have allready calculate r value while calculating slope and intercept. Let's print it and see what king of relationship the above regression shows."
   ]
  },
  {
   "cell_type": "code",
   "execution_count": 30,
   "metadata": {},
   "outputs": [
    {
     "name": "stdout",
     "output_type": "stream",
     "text": [
      "-0.758591524376155\n"
     ]
    }
   ],
   "source": [
    "print(r)"
   ]
  },
  {
   "cell_type": "markdown",
   "metadata": {},
   "source": [
    "Note : - The result -0.75 shows that there is a relationship, not perfect, but it indicates that we could use linear regression in future prediction."
   ]
  },
  {
   "cell_type": "markdown",
   "metadata": {},
   "source": [
    "# Predict future values"
   ]
  },
  {
   "cell_type": "markdown",
   "metadata": {},
   "source": [
    "Now we can use the information we have gathered above to predict future values."
   ]
  },
  {
   "cell_type": "markdown",
   "metadata": {},
   "source": [
    "Example :- Let's try to predict the speed of a 10 years old car."
   ]
  },
  {
   "cell_type": "code",
   "execution_count": 31,
   "metadata": {},
   "outputs": [
    {
     "name": "stdout",
     "output_type": "stream",
     "text": [
      "85.59308314937454\n"
     ]
    }
   ],
   "source": [
    "# to get the prediction for ten year's old car we have to use our old fun place_x_val\n",
    "\n",
    "predicted_speed = place_x_val(10)\n",
    "print(predicted_speed)"
   ]
  },
  {
   "cell_type": "code",
   "execution_count": 57,
   "metadata": {},
   "outputs": [
    {
     "name": "stdout",
     "output_type": "stream",
     "text": [
      "82.09050772626932\n"
     ]
    }
   ],
   "source": [
    "print(place_x_val(12))"
   ]
  },
  {
   "cell_type": "code",
   "execution_count": 58,
   "metadata": {},
   "outputs": [
    {
     "name": "stdout",
     "output_type": "stream",
     "text": [
      "66.3289183222958\n"
     ]
    }
   ],
   "source": [
    "print(place_x_val(21))"
   ]
  },
  {
   "cell_type": "code",
   "execution_count": 1,
   "metadata": {},
   "outputs": [
    {
     "ename": "SyntaxError",
     "evalue": "invalid syntax (<ipython-input-1-f188d5ac1197>, line 1)",
     "output_type": "error",
     "traceback": [
      "\u001b[0;36m  File \u001b[0;32m\"<ipython-input-1-f188d5ac1197>\"\u001b[0;36m, line \u001b[0;32m1\u001b[0m\n\u001b[0;31m    git init\u001b[0m\n\u001b[0m        ^\u001b[0m\n\u001b[0;31mSyntaxError\u001b[0m\u001b[0;31m:\u001b[0m invalid syntax\n"
     ]
    }
   ],
   "source": []
  },
  {
   "cell_type": "code",
   "execution_count": null,
   "metadata": {},
   "outputs": [],
   "source": []
  }
 ],
 "metadata": {
  "kernelspec": {
   "display_name": "Python 3",
   "language": "python",
   "name": "python3"
  },
  "language_info": {
   "codemirror_mode": {
    "name": "ipython",
    "version": 3
   },
   "file_extension": ".py",
   "mimetype": "text/x-python",
   "name": "python",
   "nbconvert_exporter": "python",
   "pygments_lexer": "ipython3",
   "version": "3.8.3"
  }
 },
 "nbformat": 4,
 "nbformat_minor": 4
}
